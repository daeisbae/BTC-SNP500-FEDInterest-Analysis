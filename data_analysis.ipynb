{
 "cells": [
  {
   "cell_type": "code",
   "execution_count": 56,
   "metadata": {},
   "outputs": [],
   "source": [
    "import seaborn as sns\n",
    "import matplotlib.pyplot as plt\n",
    "import pandas as pd"
   ]
  },
  {
   "cell_type": "code",
   "execution_count": 57,
   "metadata": {},
   "outputs": [
    {
     "data": {
      "text/html": [
       "<div>\n",
       "<style scoped>\n",
       "    .dataframe tbody tr th:only-of-type {\n",
       "        vertical-align: middle;\n",
       "    }\n",
       "\n",
       "    .dataframe tbody tr th {\n",
       "        vertical-align: top;\n",
       "    }\n",
       "\n",
       "    .dataframe thead th {\n",
       "        text-align: right;\n",
       "    }\n",
       "</style>\n",
       "<table border=\"1\" class=\"dataframe\">\n",
       "  <thead>\n",
       "    <tr style=\"text-align: right;\">\n",
       "      <th></th>\n",
       "      <th>Unnamed: 0</th>\n",
       "      <th>Open_time</th>\n",
       "      <th>Open</th>\n",
       "      <th>High</th>\n",
       "      <th>Low</th>\n",
       "      <th>Close</th>\n",
       "      <th>Volume</th>\n",
       "      <th>Close_time</th>\n",
       "      <th>quote_av</th>\n",
       "      <th>trades</th>\n",
       "      <th>tb_base_av</th>\n",
       "      <th>tb_quote_av</th>\n",
       "      <th>ignore</th>\n",
       "      <th>Type</th>\n",
       "    </tr>\n",
       "  </thead>\n",
       "  <tbody>\n",
       "    <tr>\n",
       "      <th>0</th>\n",
       "      <td>0</td>\n",
       "      <td>2017-08-01</td>\n",
       "      <td>4261.48</td>\n",
       "      <td>4745.42</td>\n",
       "      <td>3400.00</td>\n",
       "      <td>4724.89</td>\n",
       "      <td>10015.640272</td>\n",
       "      <td>2017-08-31 23:59:59.999</td>\n",
       "      <td>4.253830e+07</td>\n",
       "      <td>69180</td>\n",
       "      <td>4610.019431</td>\n",
       "      <td>1.941923e+07</td>\n",
       "      <td>10779.838731</td>\n",
       "      <td>BTCUSDT</td>\n",
       "    </tr>\n",
       "    <tr>\n",
       "      <th>1</th>\n",
       "      <td>1</td>\n",
       "      <td>2017-09-01</td>\n",
       "      <td>4689.89</td>\n",
       "      <td>4939.19</td>\n",
       "      <td>2817.00</td>\n",
       "      <td>4378.51</td>\n",
       "      <td>27634.189120</td>\n",
       "      <td>2017-09-30 23:59:59.999</td>\n",
       "      <td>1.104931e+08</td>\n",
       "      <td>228745</td>\n",
       "      <td>12353.170043</td>\n",
       "      <td>4.919992e+07</td>\n",
       "      <td>11158.769785</td>\n",
       "      <td>BTCUSDT</td>\n",
       "    </tr>\n",
       "    <tr>\n",
       "      <th>2</th>\n",
       "      <td>2</td>\n",
       "      <td>2017-10-01</td>\n",
       "      <td>4378.49</td>\n",
       "      <td>6498.01</td>\n",
       "      <td>4110.00</td>\n",
       "      <td>6463.00</td>\n",
       "      <td>41626.388463</td>\n",
       "      <td>2017-10-31 23:59:59.999</td>\n",
       "      <td>2.287368e+08</td>\n",
       "      <td>303389</td>\n",
       "      <td>19231.858853</td>\n",
       "      <td>1.053401e+08</td>\n",
       "      <td>15785.318159</td>\n",
       "      <td>BTCUSDT</td>\n",
       "    </tr>\n",
       "    <tr>\n",
       "      <th>3</th>\n",
       "      <td>3</td>\n",
       "      <td>2017-11-01</td>\n",
       "      <td>6463.00</td>\n",
       "      <td>11300.03</td>\n",
       "      <td>5325.01</td>\n",
       "      <td>9838.96</td>\n",
       "      <td>108487.978119</td>\n",
       "      <td>2017-11-30 23:59:59.999</td>\n",
       "      <td>8.927488e+08</td>\n",
       "      <td>577424</td>\n",
       "      <td>55476.983538</td>\n",
       "      <td>4.644876e+08</td>\n",
       "      <td>34507.182977</td>\n",
       "      <td>BTCUSDT</td>\n",
       "    </tr>\n",
       "    <tr>\n",
       "      <th>4</th>\n",
       "      <td>4</td>\n",
       "      <td>2017-12-01</td>\n",
       "      <td>9837.00</td>\n",
       "      <td>19798.68</td>\n",
       "      <td>9380.00</td>\n",
       "      <td>13716.36</td>\n",
       "      <td>408476.658399</td>\n",
       "      <td>2017-12-31 23:59:59.999</td>\n",
       "      <td>5.975574e+09</td>\n",
       "      <td>3082883</td>\n",
       "      <td>213940.587099</td>\n",
       "      <td>3.122654e+09</td>\n",
       "      <td>0.000000</td>\n",
       "      <td>BTCUSDT</td>\n",
       "    </tr>\n",
       "  </tbody>\n",
       "</table>\n",
       "</div>"
      ],
      "text/plain": [
       "   Unnamed: 0   Open_time     Open      High      Low     Close  \\\n",
       "0           0  2017-08-01  4261.48   4745.42  3400.00   4724.89   \n",
       "1           1  2017-09-01  4689.89   4939.19  2817.00   4378.51   \n",
       "2           2  2017-10-01  4378.49   6498.01  4110.00   6463.00   \n",
       "3           3  2017-11-01  6463.00  11300.03  5325.01   9838.96   \n",
       "4           4  2017-12-01  9837.00  19798.68  9380.00  13716.36   \n",
       "\n",
       "          Volume               Close_time      quote_av   trades  \\\n",
       "0   10015.640272  2017-08-31 23:59:59.999  4.253830e+07    69180   \n",
       "1   27634.189120  2017-09-30 23:59:59.999  1.104931e+08   228745   \n",
       "2   41626.388463  2017-10-31 23:59:59.999  2.287368e+08   303389   \n",
       "3  108487.978119  2017-11-30 23:59:59.999  8.927488e+08   577424   \n",
       "4  408476.658399  2017-12-31 23:59:59.999  5.975574e+09  3082883   \n",
       "\n",
       "      tb_base_av   tb_quote_av        ignore     Type  \n",
       "0    4610.019431  1.941923e+07  10779.838731  BTCUSDT  \n",
       "1   12353.170043  4.919992e+07  11158.769785  BTCUSDT  \n",
       "2   19231.858853  1.053401e+08  15785.318159  BTCUSDT  \n",
       "3   55476.983538  4.644876e+08  34507.182977  BTCUSDT  \n",
       "4  213940.587099  3.122654e+09      0.000000  BTCUSDT  "
      ]
     },
     "execution_count": 57,
     "metadata": {},
     "output_type": "execute_result"
    }
   ],
   "source": [
    "btc_df = pd.read_csv('BTCUSDF.csv')\n",
    "btc_df.head()"
   ]
  },
  {
   "cell_type": "code",
   "execution_count": 58,
   "metadata": {},
   "outputs": [
    {
     "data": {
      "text/html": [
       "<div>\n",
       "<style scoped>\n",
       "    .dataframe tbody tr th:only-of-type {\n",
       "        vertical-align: middle;\n",
       "    }\n",
       "\n",
       "    .dataframe tbody tr th {\n",
       "        vertical-align: top;\n",
       "    }\n",
       "\n",
       "    .dataframe thead th {\n",
       "        text-align: right;\n",
       "    }\n",
       "</style>\n",
       "<table border=\"1\" class=\"dataframe\">\n",
       "  <thead>\n",
       "    <tr style=\"text-align: right;\">\n",
       "      <th></th>\n",
       "      <th>DATE</th>\n",
       "      <th>FEDFUNDS</th>\n",
       "    </tr>\n",
       "  </thead>\n",
       "  <tbody>\n",
       "    <tr>\n",
       "      <th>0</th>\n",
       "      <td>2017-08-01</td>\n",
       "      <td>1.16</td>\n",
       "    </tr>\n",
       "    <tr>\n",
       "      <th>1</th>\n",
       "      <td>2017-09-01</td>\n",
       "      <td>1.15</td>\n",
       "    </tr>\n",
       "    <tr>\n",
       "      <th>2</th>\n",
       "      <td>2017-10-01</td>\n",
       "      <td>1.15</td>\n",
       "    </tr>\n",
       "    <tr>\n",
       "      <th>3</th>\n",
       "      <td>2017-11-01</td>\n",
       "      <td>1.16</td>\n",
       "    </tr>\n",
       "    <tr>\n",
       "      <th>4</th>\n",
       "      <td>2017-12-01</td>\n",
       "      <td>1.30</td>\n",
       "    </tr>\n",
       "  </tbody>\n",
       "</table>\n",
       "</div>"
      ],
      "text/plain": [
       "         DATE  FEDFUNDS\n",
       "0  2017-08-01      1.16\n",
       "1  2017-09-01      1.15\n",
       "2  2017-10-01      1.15\n",
       "3  2017-11-01      1.16\n",
       "4  2017-12-01      1.30"
      ]
     },
     "execution_count": 58,
     "metadata": {},
     "output_type": "execute_result"
    }
   ],
   "source": [
    "fed_df = pd.read_csv('FEDFUNDS.csv')\n",
    "fed_df.head()"
   ]
  },
  {
   "cell_type": "code",
   "execution_count": 59,
   "metadata": {},
   "outputs": [],
   "source": [
    "fed_df[\"DATE\"] = pd.to_datetime(fed_df[\"DATE\"], format='%Y-%m-%d')\n",
    "btc_df[\"DATE\"] = pd.to_datetime(btc_df[\"Open_time\"], format='%Y-%m-%d')"
   ]
  },
  {
   "cell_type": "code",
   "execution_count": 60,
   "metadata": {},
   "outputs": [],
   "source": [
    "btc_df = btc_df[['DATE', \"Open\"]]\n",
    "btc_df[\"BTC_10000USD\"] = btc_df[\"Open\"] / 10000\n",
    "btc_df.columns = ['DATE', 'BTC_10000USD']"
   ]
  },
  {
   "cell_type": "code",
   "execution_count": 61,
   "metadata": {},
   "outputs": [],
   "source": [
    "combine_df = pd.merge(fed_df, btc_df, how='inner', on='DATE')"
   ]
  },
  {
   "cell_type": "code",
   "execution_count": 62,
   "metadata": {},
   "outputs": [
    {
     "data": {
      "text/html": [
       "<div>\n",
       "<style scoped>\n",
       "    .dataframe tbody tr th:only-of-type {\n",
       "        vertical-align: middle;\n",
       "    }\n",
       "\n",
       "    .dataframe tbody tr th {\n",
       "        vertical-align: top;\n",
       "    }\n",
       "\n",
       "    .dataframe thead th {\n",
       "        text-align: right;\n",
       "    }\n",
       "</style>\n",
       "<table border=\"1\" class=\"dataframe\">\n",
       "  <thead>\n",
       "    <tr style=\"text-align: right;\">\n",
       "      <th></th>\n",
       "      <th>DATE</th>\n",
       "      <th>FEDFUNDS</th>\n",
       "      <th>BTC_10000USD</th>\n",
       "    </tr>\n",
       "  </thead>\n",
       "  <tbody>\n",
       "    <tr>\n",
       "      <th>0</th>\n",
       "      <td>2017-08-01</td>\n",
       "      <td>1.16</td>\n",
       "      <td>4261.48</td>\n",
       "    </tr>\n",
       "    <tr>\n",
       "      <th>1</th>\n",
       "      <td>2017-09-01</td>\n",
       "      <td>1.15</td>\n",
       "      <td>4689.89</td>\n",
       "    </tr>\n",
       "    <tr>\n",
       "      <th>2</th>\n",
       "      <td>2017-10-01</td>\n",
       "      <td>1.15</td>\n",
       "      <td>4378.49</td>\n",
       "    </tr>\n",
       "    <tr>\n",
       "      <th>3</th>\n",
       "      <td>2017-11-01</td>\n",
       "      <td>1.16</td>\n",
       "      <td>6463.00</td>\n",
       "    </tr>\n",
       "    <tr>\n",
       "      <th>4</th>\n",
       "      <td>2017-12-01</td>\n",
       "      <td>1.30</td>\n",
       "      <td>9837.00</td>\n",
       "    </tr>\n",
       "  </tbody>\n",
       "</table>\n",
       "</div>"
      ],
      "text/plain": [
       "        DATE  FEDFUNDS  BTC_10000USD\n",
       "0 2017-08-01      1.16       4261.48\n",
       "1 2017-09-01      1.15       4689.89\n",
       "2 2017-10-01      1.15       4378.49\n",
       "3 2017-11-01      1.16       6463.00\n",
       "4 2017-12-01      1.30       9837.00"
      ]
     },
     "execution_count": 62,
     "metadata": {},
     "output_type": "execute_result"
    }
   ],
   "source": [
    "combine_df.head()"
   ]
  },
  {
   "cell_type": "code",
   "execution_count": 63,
   "metadata": {},
   "outputs": [
    {
     "data": {
      "text/plain": [
       "<AxesSubplot:>"
      ]
     },
     "execution_count": 63,
     "metadata": {},
     "output_type": "execute_result"
    },
    {
     "data": {
      "image/png": "[encoded data removed]",
      "text/plain": [
       "<Figure size 432x288 with 2 Axes>"
      ]
     },
     "metadata": {
      "needs_background": "light"
     },
     "output_type": "display_data"
    }
   ],
   "source": [
    "sns.heatmap(combine_df[['FEDFUNDS', 'BTC_10000USD']].corr(), annot=True)"
   ]
  },
  {
   "cell_type": "code",
   "execution_count": 64,
   "metadata": {},
   "outputs": [
    {
     "data": {
      "text/plain": [
       "<AxesSubplot:xlabel='FEDFUNDS', ylabel='BTC_10000USD'>"
      ]
     },
     "execution_count": 64,
     "metadata": {},
     "output_type": "execute_result"
    },
    {
     "data": {
      "image/png": "[encoded data removed]",
      "text/plain": [
       "<Figure size 432x288 with 1 Axes>"
      ]
     },
     "metadata": {
      "needs_background": "light"
     },
     "output_type": "display_data"
    }
   ],
   "source": [
    "sns.scatterplot(x='FEDFUNDS', y='BTC_10000USD', data=combine_df)"
   ]
  },
  {
   "cell_type": "code",
   "execution_count": 65,
   "metadata": {},
   "outputs": [
    {
     "data": {
      "text/plain": [
       "<AxesSubplot:xlabel='DATE', ylabel='FEDFUNDS'>"
      ]
     },
     "execution_count": 65,
     "metadata": {},
     "output_type": "execute_result"
    },
    {
     "data": {
      "image/png": "[encoded data removed]",
      "text/plain": [
       "<Figure size 432x288 with 1 Axes>"
      ]
     },
     "metadata": {
      "needs_background": "light"
     },
     "output_type": "display_data"
    }
   ],
   "source": [
    "sns.lineplot(x=\"DATE\", y=\"FEDFUNDS\", data=combine_df)\n",
    "sns.lineplot(x=\"DATE\", y=\"BTC_10000USD\", data=combine_df)"
   ]
  }
 ],
 "metadata": {
  "interpreter": {
   "hash": "dc7391b67822524f44ca8c13ff0a01f20256a664f3eaf4f1c1cc36e9f178b848"
  },
  "kernelspec": {
   "display_name": "Python 3.9.7 64-bit",
   "language": "python",
   "name": "python3"
  },
  "language_info": {
   "codemirror_mode": {
    "name": "ipython",
    "version": 3
   },
   "file_extension": ".py",
   "mimetype": "text/x-python",
   "name": "python",
   "nbconvert_exporter": "python",
   "pygments_lexer": "ipython3",
   "version": "3.9.7"
  },
  "orig_nbformat": 4
 },
 "nbformat": 4,
 "nbformat_minor": 2
}
